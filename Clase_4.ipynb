{
 "cells": [
  {
   "attachments": {},
   "cell_type": "markdown",
   "metadata": {},
   "source": [
    "# Funciones."
   ]
  },
  {
   "cell_type": "code",
   "execution_count": 10,
   "metadata": {},
   "outputs": [],
   "source": [
    "def sumar (a,b):\n",
    "    resultado = a + b \n",
    "    \n",
    "    \"\"\"Función para sumar dos números\n",
    "    \n",
    "    ## Parámetros:\n",
    "    # a, b : valores enteros\n",
    "    \n",
    "    ## Return:\n",
    "    # La suma de a y b\n",
    "    \"\"\"\n",
    "    \n",
    "    return resultado"
   ]
  },
  {
   "cell_type": "code",
   "execution_count": null,
   "metadata": {},
   "outputs": [],
   "source": [
    "sumar()"
   ]
  },
  {
   "attachments": {},
   "cell_type": "markdown",
   "metadata": {},
   "source": [
    "# Actividad 1. De dolares a pesos."
   ]
  },
  {
   "cell_type": "code",
   "execution_count": 5,
   "metadata": {},
   "outputs": [],
   "source": [
    "def dolar_pesos (dolares):\n",
    "    pesos = dolares * 19.78\n",
    "    \n",
    "    return pesos"
   ]
  },
  {
   "cell_type": "code",
   "execution_count": 6,
   "metadata": {},
   "outputs": [
    {
     "data": {
      "text/plain": [
       "19.78"
      ]
     },
     "execution_count": 6,
     "metadata": {},
     "output_type": "execute_result"
    }
   ],
   "source": [
    "dolar_pesos(1)"
   ]
  },
  {
   "cell_type": "code",
   "execution_count": 7,
   "metadata": {},
   "outputs": [],
   "source": [
    "def promedio (lista = []):\n",
    "    resultado = sum(lista) / len(lista)\n",
    "    \"\"\"Promedio.\n",
    "    Lista []\n",
    "    \"\"\"\n",
    "    return resultado"
   ]
  },
  {
   "cell_type": "code",
   "execution_count": 9,
   "metadata": {},
   "outputs": [
    {
     "ename": "AttributeError",
     "evalue": "'list' object has no attribute 'len'",
     "output_type": "error",
     "traceback": [
      "\u001b[1;31m---------------------------------------------------------------------------\u001b[0m",
      "\u001b[1;31mAttributeError\u001b[0m                            Traceback (most recent call last)",
      "Cell \u001b[1;32mIn[9], line 1\u001b[0m\n\u001b[1;32m----> 1\u001b[0m promedio ([\u001b[39m1\u001b[39;49m, \u001b[39m2\u001b[39;49m, \u001b[39m3\u001b[39;49m, \u001b[39m4\u001b[39;49m, \u001b[39m5\u001b[39;49m])\n",
      "Cell \u001b[1;32mIn[7], line 2\u001b[0m, in \u001b[0;36mpromedio\u001b[1;34m(lista)\u001b[0m\n\u001b[0;32m      1\u001b[0m \u001b[39mdef\u001b[39;00m \u001b[39mpromedio\u001b[39m (lista \u001b[39m=\u001b[39m []):\n\u001b[1;32m----> 2\u001b[0m     resultado \u001b[39m=\u001b[39m \u001b[39msum\u001b[39m(lista) \u001b[39m/\u001b[39m lista\u001b[39m.\u001b[39;49mlen\n\u001b[0;32m      3\u001b[0m     \u001b[39m\"\"\"Promedio.\u001b[39;00m\n\u001b[0;32m      4\u001b[0m \u001b[39m    Lista []\u001b[39;00m\n\u001b[0;32m      5\u001b[0m \u001b[39m    \"\"\"\u001b[39;00m\n\u001b[0;32m      6\u001b[0m     \u001b[39mreturn\u001b[39;00m resultado\n",
      "\u001b[1;31mAttributeError\u001b[0m: 'list' object has no attribute 'len'"
     ]
    }
   ],
   "source": [
    "promedio ([1, 2, 3, 4, 5])"
   ]
  }
 ],
 "metadata": {
  "kernelspec": {
   "display_name": "Python 3.10.6 64-bit",
   "language": "python",
   "name": "python3"
  },
  "language_info": {
   "codemirror_mode": {
    "name": "ipython",
    "version": 3
   },
   "file_extension": ".py",
   "mimetype": "text/x-python",
   "name": "python",
   "nbconvert_exporter": "python",
   "pygments_lexer": "ipython3",
   "version": "3.10.6"
  },
  "orig_nbformat": 4,
  "vscode": {
   "interpreter": {
    "hash": "d5be601e7fd44ed5186886c77bc73aae23eaf7dfe3e3ef6aae54c37a3bd32041"
   }
  }
 },
 "nbformat": 4,
 "nbformat_minor": 2
}
