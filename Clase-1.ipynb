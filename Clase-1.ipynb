{
 "cells": [
  {
   "cell_type": "markdown",
   "metadata": {},
   "source": [
    "# Clase 1."
   ]
  },
  {
   "cell_type": "code",
   "execution_count": 1,
   "metadata": {},
   "outputs": [
    {
     "name": "stdout",
     "output_type": "stream",
     "text": [
      "hola mundo\n"
     ]
    }
   ],
   "source": [
    "print(\"hola mundo\")"
   ]
  },
  {
   "cell_type": "code",
   "execution_count": 3,
   "metadata": {},
   "outputs": [
    {
     "name": "stdout",
     "output_type": "stream",
     "text": [
      "Eduardo\n"
     ]
    }
   ],
   "source": [
    "mi_nombre = \"Eduardo\""
   ]
  },
  {
   "cell_type": "code",
   "execution_count": 4,
   "metadata": {},
   "outputs": [
    {
     "name": "stdout",
     "output_type": "stream",
     "text": [
      "Eduardo\n"
     ]
    }
   ],
   "source": [
    "print (mi_nombre)"
   ]
  },
  {
   "cell_type": "code",
   "execution_count": 5,
   "metadata": {},
   "outputs": [],
   "source": [
    "mi_edad = 18\n",
    "mi_correo = \"josevelazquez320@aragon.unam.mx\"\n",
    "mi_altura = 1.8"
   ]
  },
  {
   "cell_type": "code",
   "execution_count": 6,
   "metadata": {},
   "outputs": [
    {
     "name": "stdout",
     "output_type": "stream",
     "text": [
      "18 josevelazquez320@aragon.unam.mx 1.8\n"
     ]
    }
   ],
   "source": [
    "print(mi_edad, mi_correo, mi_altura)"
   ]
  },
  {
   "cell_type": "code",
   "execution_count": 7,
   "metadata": {},
   "outputs": [
    {
     "name": "stdout",
     "output_type": "stream",
     "text": [
      "35\n"
     ]
    }
   ],
   "source": [
    "variable_1 = 12\n",
    "variable_2 = 23\n",
    "print(variable_1 + variable_2)"
   ]
  },
  {
   "cell_type": "code",
   "execution_count": 23,
   "metadata": {},
   "outputs": [],
   "source": [
    "variable_3 = int(mi_edad) + variable_1"
   ]
  },
  {
   "cell_type": "code",
   "execution_count": 9,
   "metadata": {},
   "outputs": [],
   "source": [
    "valor_1 = 12\n",
    "valor_2 = 4\n",
    "\n",
    "suma = valor_1 + valor_2\n",
    "resta = valor_1 - valor_2\n",
    "multiplicacion = valor_1 * valor_2\n",
    "division = valor_1 / valor_2"
   ]
  },
  {
   "cell_type": "code",
   "execution_count": 10,
   "metadata": {},
   "outputs": [
    {
     "name": "stdout",
     "output_type": "stream",
     "text": [
      "16 8 48 3.0\n"
     ]
    }
   ],
   "source": [
    "print (suma, resta, multiplicacion, division)"
   ]
  },
  {
   "cell_type": "markdown",
   "metadata": {},
   "source": [
    "# format"
   ]
  },
  {
   "cell_type": "code",
   "execution_count": 18,
   "metadata": {},
   "outputs": [
    {
     "name": "stdout",
     "output_type": "stream",
     "text": [
      "La suma de 12 y 2 es 14\n"
     ]
    }
   ],
   "source": [
    "print(f'La suma de {valor_1} y {valor_2} es {suma}')"
   ]
  },
  {
   "cell_type": "code",
   "execution_count": 15,
   "metadata": {},
   "outputs": [
    {
     "name": "stdout",
     "output_type": "stream",
     "text": [
      "20\n",
      "60\n"
     ]
    }
   ],
   "source": [
    "valor_1 = int(input ('Dame un valor'))\n",
    "print (valor_1)\n",
    "print (valor_1*3)"
   ]
  },
  {
   "cell_type": "code",
   "execution_count": 17,
   "metadata": {},
   "outputs": [
    {
     "name": "stdout",
     "output_type": "stream",
     "text": [
      "La suma del 12 y 2 es 14\n"
     ]
    }
   ],
   "source": [
    "valor_1 = int (input('Introduce un número: '))\n",
    "valor_2 = int (input('Introduce un número: '))\n",
    "\n",
    "suma = valor_1 + valor_2\n",
    "\n",
    "print (f'La suma del {valor_1} y {valor_2} es {suma}')"
   ]
  },
  {
   "cell_type": "code",
   "execution_count": 20,
   "metadata": {},
   "outputs": [
    {
     "data": {
      "text/plain": [
       "True"
      ]
     },
     "execution_count": 20,
     "metadata": {},
     "output_type": "execute_result"
    }
   ],
   "source": [
    "35 >= 42\n",
    "20 <= 15\n",
    "55 >= 54\n",
    "22 <= 22\n",
    "5 == 5"
   ]
  },
  {
   "cell_type": "code",
   "execution_count": 22,
   "metadata": {},
   "outputs": [
    {
     "name": "stdout",
     "output_type": "stream",
     "text": [
      "Puedes subir\n"
     ]
    }
   ],
   "source": [
    "if 1.6 > 1.2:\n",
    "    print(\"Puedes subir\")\n",
    "else:\n",
    "    print(\"No puedes subir\")"
   ]
  }
 ],
 "metadata": {
  "kernelspec": {
   "display_name": "Python 3.10.6 64-bit",
   "language": "python",
   "name": "python3"
  },
  "language_info": {
   "codemirror_mode": {
    "name": "ipython",
    "version": 3
   },
   "file_extension": ".py",
   "mimetype": "text/x-python",
   "name": "python",
   "nbconvert_exporter": "python",
   "pygments_lexer": "ipython3",
   "version": "3.10.6 (tags/v3.10.6:9c7b4bd, Aug  1 2022, 21:53:49) [MSC v.1932 64 bit (AMD64)]"
  },
  "orig_nbformat": 4,
  "vscode": {
   "interpreter": {
    "hash": "d5be601e7fd44ed5186886c77bc73aae23eaf7dfe3e3ef6aae54c37a3bd32041"
   }
  }
 },
 "nbformat": 4,
 "nbformat_minor": 2
}
