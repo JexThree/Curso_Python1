{
 "cells": [
  {
   "cell_type": "markdown",
   "metadata": {},
   "source": [
    "# Desarrolla un código para encontrar el número mayor."
   ]
  },
  {
   "cell_type": "code",
   "execution_count": 1,
   "metadata": {},
   "outputs": [
    {
     "name": "stdout",
     "output_type": "stream",
     "text": [
      "El número mayor es: 2\n"
     ]
    }
   ],
   "source": [
    "numero1 = int(input ('Introduce un número: '))\n",
    "numero2 = int(input ('Introduce un número: '))\n",
    "\n",
    "if numero1 < numero2:\n",
    "        numeromayor = numero2\n",
    "        print (f'El número mayor es: {numeromayor}')\n",
    "elif numero2 < numero1:\n",
    "        numeromayor = numero1\n",
    "        print (f'El número mayor es: {numeromayor}')\n",
    "else:\n",
    "    print (f'Ambos números son iguales.')"
   ]
  },
  {
   "cell_type": "markdown",
   "metadata": {},
   "source": [
    "# Listas.\n",
    "\\^\n"
   ]
  },
  {
   "cell_type": "code",
   "execution_count": 20,
   "metadata": {},
   "outputs": [
    {
     "name": "stdout",
     "output_type": "stream",
     "text": [
      "manzana\n"
     ]
    }
   ],
   "source": [
    "mis_frutas = [\"manzana\", \"platano\", \"pera\"]\n",
    "print(mis_frutas [0])"
   ]
  },
  {
   "cell_type": "code",
   "execution_count": 25,
   "metadata": {},
   "outputs": [
    {
     "name": "stdout",
     "output_type": "stream",
     "text": [
      "[1, 15, 3, 8, 15, 14, 19, 6, 9, 1]\n",
      "9.1\n",
      "1\n",
      "19\n"
     ]
    }
   ],
   "source": [
    "mis_numeros = [1, 15, 3, 8, 15, 14, 19, 6, 9, 1]\n",
    "print(mis_numeros)\n",
    "promedio = sum(mis_numeros) / len(mis_numeros)\n",
    "print(promedio)\n",
    "print(min(mis_numeros))\n",
    "print(max(mis_numeros))"
   ]
  },
  {
   "cell_type": "markdown",
   "metadata": {},
   "source": [
    "$$\\frac{1}{2}\\sum{i}^{n} x_i$$"
   ]
  }
 ],
 "metadata": {
  "kernelspec": {
   "display_name": "Python 3.10.6 64-bit",
   "language": "python",
   "name": "python3"
  },
  "language_info": {
   "codemirror_mode": {
    "name": "ipython",
    "version": 3
   },
   "file_extension": ".py",
   "mimetype": "text/x-python",
   "name": "python",
   "nbconvert_exporter": "python",
   "pygments_lexer": "ipython3",
   "version": "3.10.6 (tags/v3.10.6:9c7b4bd, Aug  1 2022, 21:53:49) [MSC v.1932 64 bit (AMD64)]"
  },
  "orig_nbformat": 4,
  "vscode": {
   "interpreter": {
    "hash": "d5be601e7fd44ed5186886c77bc73aae23eaf7dfe3e3ef6aae54c37a3bd32041"
   }
  }
 },
 "nbformat": 4,
 "nbformat_minor": 2
}
