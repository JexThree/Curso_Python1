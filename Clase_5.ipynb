{
 "cells": [
  {
   "attachments": {},
   "cell_type": "markdown",
   "metadata": {},
   "source": [
    "## Librerias."
   ]
  },
  {
   "cell_type": "code",
   "execution_count": 3,
   "metadata": {},
   "outputs": [
    {
     "name": "stdout",
     "output_type": "stream",
     "text": [
      "4\n"
     ]
    }
   ],
   "source": [
    "import random\n",
    "from random import shuffle\n",
    "\n",
    "print (random.randint(0, 10))"
   ]
  },
  {
   "attachments": {},
   "cell_type": "markdown",
   "metadata": {},
   "source": [
    "### Random.randint"
   ]
  },
  {
   "cell_type": "code",
   "execution_count": 7,
   "metadata": {},
   "outputs": [
    {
     "name": "stdout",
     "output_type": "stream",
     "text": [
      "El numero era 2\n",
      "F, no adivinaste el número.\n"
     ]
    }
   ],
   "source": [
    "def adivinar_dado_1 (numero_U_1):\n",
    "    numero_Rand = random.randint(1, 6)\n",
    "    if numero_U_1 == numero_Rand:\n",
    "        print (f'Felicidades, adivinaste el número.')\n",
    "    else:\n",
    "        print (f'El numero era {numero_Rand}')\n",
    "        print (f'F, no adivinaste el número.')\n",
    "\n",
    "def adivinar_dado_2 (numero_U_2):\n",
    "    numero_Rand_2 = random.randint(1, 6)\n",
    "    if numero_U_2 == numero_Rand_2:\n",
    "        print (f'Felicidades, adivinaste el número.')\n",
    "    else:\n",
    "        print (f'El numero era {numero_Rand_2}')\n",
    "        print (f'F, no adivinaste el número.')\n",
    "\n",
    "adivinar_dado_1 (3)"
   ]
  },
  {
   "cell_type": "code",
   "execution_count": 8,
   "metadata": {},
   "outputs": [
    {
     "name": "stdout",
     "output_type": "stream",
     "text": [
      "[27, 23, 24, 8, 8, 27, 22, 24, 5, 15]\n"
     ]
    }
   ],
   "source": [
    "lista_rand = []\n",
    "\n",
    "for contador in range (10):\n",
    "    num = random.randint(0, 30)\n",
    "    lista_rand.append(num)\n",
    "\n",
    "print (lista_rand)"
   ]
  },
  {
   "cell_type": "code",
   "execution_count": 9,
   "metadata": {},
   "outputs": [
    {
     "data": {
      "text/plain": [
       "[15, 6, 26, 15, 16, 20, 14, 19, 25, 25]"
      ]
     },
     "execution_count": 9,
     "metadata": {},
     "output_type": "execute_result"
    }
   ],
   "source": [
    "[random.randint(0, 30) for i in range (10)]"
   ]
  },
  {
   "attachments": {},
   "cell_type": "markdown",
   "metadata": {},
   "source": [
    "### random.shuffle"
   ]
  },
  {
   "cell_type": "code",
   "execution_count": 11,
   "metadata": {},
   "outputs": [
    {
     "name": "stdout",
     "output_type": "stream",
     "text": [
      "['Manzana', 'Uva', 'Pera', 'Naranja']\n"
     ]
    }
   ],
   "source": [
    "mis_frutas = ['Manzana', 'Pera', 'Naranja', 'Uva']\n",
    "random.shuffle(mis_frutas)\n",
    "print(mis_frutas)"
   ]
  },
  {
   "attachments": {},
   "cell_type": "markdown",
   "metadata": {},
   "source": [
    "### random.choice"
   ]
  },
  {
   "cell_type": "code",
   "execution_count": 20,
   "metadata": {},
   "outputs": [
    {
     "name": "stdout",
     "output_type": "stream",
     "text": [
      "Uva\n"
     ]
    }
   ],
   "source": [
    "print (random.choice(mis_frutas))"
   ]
  },
  {
   "cell_type": "code",
   "execution_count": 21,
   "metadata": {},
   "outputs": [
    {
     "name": "stdout",
     "output_type": "stream",
     "text": [
      "a\n"
     ]
    }
   ],
   "source": [
    "print (random.choice(\"Hola Mundo\"))"
   ]
  },
  {
   "cell_type": "code",
   "execution_count": 28,
   "metadata": {},
   "outputs": [
    {
     "name": "stdout",
     "output_type": "stream",
     "text": [
      " otltleljjo\n"
     ]
    }
   ],
   "source": [
    "texto = \" \"\n",
    "for i in range(10):\n",
    "    texto += random.choice(\"Ajolote\")\n",
    "print (texto)\n"
   ]
  },
  {
   "cell_type": "code",
   "execution_count": 27,
   "metadata": {},
   "outputs": [
    {
     "name": "stdout",
     "output_type": "stream",
     "text": [
      " kgqpesnsvcufikz\n"
     ]
    }
   ],
   "source": [
    "texto_Rand = \" \"\n",
    "for i in range(15):\n",
    "    texto_Rand += random.choice(\"qwertyuiopasdfghjklñzxcvbnm\")\n",
    "print (texto_Rand)"
   ]
  },
  {
   "cell_type": "code",
   "execution_count": 31,
   "metadata": {},
   "outputs": [
    {
     "data": {
      "text/plain": [
       "'Hola_Mundo_en_Python'"
      ]
     },
     "execution_count": 31,
     "metadata": {},
     "output_type": "execute_result"
    }
   ],
   "source": [
    "\"_\".join([\"Hola\", \"Mundo\", \"en\", \"Python\"])"
   ]
  },
  {
   "cell_type": "code",
   "execution_count": 32,
   "metadata": {},
   "outputs": [
    {
     "data": {
      "text/plain": [
       "'t q z s u r p h e ñ x m h o p'"
      ]
     },
     "execution_count": 32,
     "metadata": {},
     "output_type": "execute_result"
    }
   ],
   "source": [
    "\" \".join([random.choice(\"qwertyuiopasdfghjklñzxcvbnm\") for i in range (15)])"
   ]
  },
  {
   "attachments": {},
   "cell_type": "markdown",
   "metadata": {},
   "source": [
    "### Proyecto: Generador de contraseñas."
   ]
  },
  {
   "cell_type": "code",
   "execution_count": 40,
   "metadata": {},
   "outputs": [
    {
     "data": {
      "text/plain": [
       "['v', 'm', 'ñ', 'm', '!']"
      ]
     },
     "execution_count": 40,
     "metadata": {},
     "output_type": "execute_result"
    }
   ],
   "source": [
    "def Generador_contraseñas (numero):\n",
    "    \n",
    "    num = int(numero)\n",
    "    \n",
    "    letras = [\"1\",\"2\",\"3\",\"4\",\"5\",\"6\",\"7\",\"8\",\"9\",\"0\",\"q\",\"w\",\"e\",\"r\",\"t\",\"y\",\"u\",\"i\",\"o\",\"p\",\"a\",\"s\",\"d\",\"f\",\"g\",\"h\",\"j\",\"k\",\"l\",\"ñ\",\"z\",\"x\",\"c\",\"v\",\"b\",\"n\",\"m\",\"Q\",\"W\",\"E\",\"R\",\"T\",\"Y\",\"U\",\"I\",\"O\",\"P\",\"A\",\"S\",\"D\",\"F\",\"G\",\"H\",\"J\",\"K\",\"L\",\"Ñ\",\"Z\",\"X\",\"C\",\"V\",\"B\",\"N\",\"M\",\"$\",\"#\",\"!\",\"&\",\"@\"]\n",
    "    \n",
    "    nuevo_String = []\n",
    "\n",
    "    for i in range (num):\n",
    "        random_String = random.choice(letras)\n",
    "        nuevo_String.append(random_String)\n",
    "    \n",
    "    nuevo_String_2 = \"\".join(nuevo_String)\n",
    "\n",
    "    return nuevo_String_2\n",
    "\n",
    "num = int(input('Número de carácteres: '))\n",
    "Generador_contraseñas(num)"
   ]
  },
  {
   "cell_type": "code",
   "execution_count": null,
   "metadata": {},
   "outputs": [],
   "source": [
    "\"\".join([random.choice(\"1234567890qwertyuiopasdfghjklñzxcvbnmQWERTYUIOPASDFGHJKLÑZXCVBNM$#!&@\") for i in range (num)])"
   ]
  }
 ],
 "metadata": {
  "kernelspec": {
   "display_name": "Python 3",
   "language": "python",
   "name": "python3"
  },
  "language_info": {
   "codemirror_mode": {
    "name": "ipython",
    "version": 3
   },
   "file_extension": ".py",
   "mimetype": "text/x-python",
   "name": "python",
   "nbconvert_exporter": "python",
   "pygments_lexer": "ipython3",
   "version": "3.10.6"
  },
  "orig_nbformat": 4,
  "vscode": {
   "interpreter": {
    "hash": "d5be601e7fd44ed5186886c77bc73aae23eaf7dfe3e3ef6aae54c37a3bd32041"
   }
  }
 },
 "nbformat": 4,
 "nbformat_minor": 2
}
