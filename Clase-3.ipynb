{
 "cells": [
  {
   "cell_type": "markdown",
   "metadata": {},
   "source": [
    "# Clase 3. Ciclos"
   ]
  },
  {
   "cell_type": "code",
   "execution_count": 1,
   "metadata": {},
   "outputs": [
    {
     "name": "stdout",
     "output_type": "stream",
     "text": [
      "Se ejecuta la condición.\n"
     ]
    }
   ],
   "source": [
    "if True:\n",
    "    print (f'Se ejecuta la condición.')"
   ]
  },
  {
   "cell_type": "code",
   "execution_count": 2,
   "metadata": {},
   "outputs": [
    {
     "name": "stdout",
     "output_type": "stream",
     "text": [
      "Se ejecuta la condición. 0\n",
      "Se ejecuta la condición. 1\n",
      "Se ejecuta la condición. 2\n",
      "Se ejecuta la condición. 3\n",
      "Se ejecuta la condición. 4\n"
     ]
    }
   ],
   "source": [
    "contador = 0\n",
    "while (contador < 5):\n",
    "    print(f'Se ejecuta la condición. {contador}')\n",
    "    contador = contador + 1"
   ]
  },
  {
   "cell_type": "code",
   "execution_count": 3,
   "metadata": {},
   "outputs": [
    {
     "name": "stdout",
     "output_type": "stream",
     "text": [
      "Usuario registrado\n"
     ]
    }
   ],
   "source": [
    "auth = 0\n",
    "while (auth == 0):\n",
    "    username = input ('¿Cuál es tu usuario?')\n",
    "    password = input ('¿Cuál es tu contraseña?')\n",
    "    if len(password) < 6:\n",
    "        print(f'Necesitas una contraseña más de seis dígitos.')\n",
    "    else:\n",
    "        print(f'Usuario registrado')\n",
    "        auth = 1"
   ]
  },
  {
   "cell_type": "code",
   "execution_count": 5,
   "metadata": {},
   "outputs": [
    {
     "name": "stdout",
     "output_type": "stream",
     "text": [
      "0\n",
      "1\n",
      "2\n",
      "3\n",
      "4\n",
      "5\n",
      "6\n",
      "7\n",
      "8\n",
      "9\n"
     ]
    }
   ],
   "source": [
    "for indice in range(10):\n",
    "    print(indice)"
   ]
  },
  {
   "cell_type": "code",
   "execution_count": 6,
   "metadata": {},
   "outputs": [
    {
     "name": "stdout",
     "output_type": "stream",
     "text": [
      "5\n",
      "6\n",
      "7\n",
      "8\n",
      "9\n",
      "10\n",
      "11\n",
      "12\n",
      "13\n",
      "14\n"
     ]
    }
   ],
   "source": [
    "for indice in range(5, 15):\n",
    "    print(indice)"
   ]
  },
  {
   "cell_type": "code",
   "execution_count": 7,
   "metadata": {},
   "outputs": [
    {
     "name": "stdout",
     "output_type": "stream",
     "text": [
      "5\n",
      "7\n",
      "9\n",
      "11\n",
      "13\n",
      "15\n",
      "17\n",
      "19\n",
      "21\n",
      "23\n"
     ]
    }
   ],
   "source": [
    "for indice in range(5, 25, 2):\n",
    "    print(indice)"
   ]
  },
  {
   "cell_type": "code",
   "execution_count": 8,
   "metadata": {},
   "outputs": [
    {
     "name": "stdout",
     "output_type": "stream",
     "text": [
      "0\n",
      "1\n",
      "2\n",
      "3\n",
      "4\n",
      "5\n",
      "6\n",
      "7\n",
      "8\n",
      "9\n",
      "10\n",
      "11\n",
      "12\n",
      "13\n",
      "14\n",
      "15\n",
      "16\n",
      "17\n",
      "18\n",
      "19\n",
      "20\n",
      "21\n",
      "22\n"
     ]
    }
   ],
   "source": [
    "n = int(input('¿Cuántas veces se repetira?'))\n",
    "for index in range(n):\n",
    "    print(f'{index}')"
   ]
  },
  {
   "cell_type": "code",
   "execution_count": 9,
   "metadata": {},
   "outputs": [
    {
     "name": "stdout",
     "output_type": "stream",
     "text": [
      "[0]\n",
      "[0, 1]\n",
      "[0, 1, 4]\n",
      "[0, 1, 4, 9]\n",
      "[0, 1, 4, 9, 16]\n",
      "[0, 1, 4, 9, 16, 25]\n",
      "[0, 1, 4, 9, 16, 25, 36]\n",
      "[0, 1, 4, 9, 16, 25, 36, 49]\n",
      "[0, 1, 4, 9, 16, 25, 36, 49, 64]\n",
      "[0, 1, 4, 9, 16, 25, 36, 49, 64, 81]\n"
     ]
    }
   ],
   "source": [
    "numeros_cuadrados = []\n",
    "for index in range(10):\n",
    "    numeros_cuadrados.append(index**2)\n",
    "    print(numeros_cuadrados)"
   ]
  },
  {
   "cell_type": "code",
   "execution_count": 10,
   "metadata": {},
   "outputs": [
    {
     "name": "stdout",
     "output_type": "stream",
     "text": [
      "manzana\n",
      "platano\n",
      "pera\n",
      "uva\n"
     ]
    }
   ],
   "source": [
    "mis_frutas = [\"manzana\", \"platano\", \"pera\", \"uva\"]\n",
    "for index in range (4):\n",
    "    print(mis_frutas[index])"
   ]
  },
  {
   "cell_type": "code",
   "execution_count": 11,
   "metadata": {},
   "outputs": [
    {
     "name": "stdout",
     "output_type": "stream",
     "text": [
      "manzana\n",
      "platano\n",
      "pera\n",
      "uva\n"
     ]
    }
   ],
   "source": [
    "mis_frutas = [\"manzana\", \"platano\", \"pera\", \"uva\"]\n",
    "for index in range (len(mis_frutas)):\n",
    "    print(mis_frutas[index])"
   ]
  },
  {
   "cell_type": "code",
   "execution_count": 13,
   "metadata": {},
   "outputs": [
    {
     "name": "stdout",
     "output_type": "stream",
     "text": [
      "manzana\n",
      "platano\n",
      "pera\n",
      "uva\n"
     ]
    }
   ],
   "source": [
    "for element in mis_frutas:\n",
    "    print (element)"
   ]
  },
  {
   "cell_type": "code",
   "execution_count": 29,
   "metadata": {},
   "outputs": [
    {
     "name": "stdout",
     "output_type": "stream",
     "text": [
      "Tu promedio es: 7.0\n",
      "APROBASTE.\n"
     ]
    }
   ],
   "source": [
    "cantidad_repeticiones = int(input('¿Cuantás calificaciones quiere añadir?'))\n",
    "\n",
    "calificaciones = []\n",
    "\n",
    "for e in range (cantidad_repeticiones):\n",
    "\n",
    "    temporal = int(input(f'Escribe tu calificación {e + 1}:'))\n",
    "\n",
    "    calificaciones.append(temporal)\n",
    "\n",
    "promedio = sum(calificaciones) / len(calificaciones)\n",
    "\n",
    "print(f'Tu promedio es: {promedio}')\n",
    "\n",
    "if promedio >= 6:\n",
    "    print(f'APROBASTE.')\n",
    "else:\n",
    "    print(f'REPROBASTE.')"
   ]
  },
  {
   "cell_type": "code",
   "execution_count": 30,
   "metadata": {},
   "outputs": [
    {
     "name": "stdout",
     "output_type": "stream",
     "text": [
      "name 'suma' is not defined\n"
     ]
    }
   ],
   "source": [
    "try:\n",
    "    print(f\"Suma = {suma}\")\n",
    "except Exception as error:\n",
    "    print(error)"
   ]
  },
  {
   "cell_type": "code",
   "execution_count": 31,
   "metadata": {},
   "outputs": [
    {
     "name": "stdout",
     "output_type": "stream",
     "text": [
      "Trataste de dividir entre 0.\n"
     ]
    }
   ],
   "source": [
    "try:\n",
    "    print(0/0)\n",
    "except Exception as Zerodivisionerror:\n",
    "    print(\"Trataste de dividir entre 0.\")"
   ]
  }
 ],
 "metadata": {
  "kernelspec": {
   "display_name": "Python 3.10.6 64-bit",
   "language": "python",
   "name": "python3"
  },
  "language_info": {
   "codemirror_mode": {
    "name": "ipython",
    "version": 3
   },
   "file_extension": ".py",
   "mimetype": "text/x-python",
   "name": "python",
   "nbconvert_exporter": "python",
   "pygments_lexer": "ipython3",
   "version": "3.10.6"
  },
  "orig_nbformat": 4,
  "vscode": {
   "interpreter": {
    "hash": "d5be601e7fd44ed5186886c77bc73aae23eaf7dfe3e3ef6aae54c37a3bd32041"
   }
  }
 },
 "nbformat": 4,
 "nbformat_minor": 2
}
